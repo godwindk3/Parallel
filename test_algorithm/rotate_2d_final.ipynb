{
 "cells": [
  {
   "cell_type": "code",
   "execution_count": 1,
   "metadata": {},
   "outputs": [],
   "source": [
    "import numpy as np\n",
    "import matplotlib.pyplot as plt\n",
    "import pydicom as dicom"
   ]
  },
  {
   "cell_type": "code",
   "execution_count": 2,
   "metadata": {},
   "outputs": [],
   "source": [
    "# img = dicom.dcmread(\"../data/PAT034/D0001.dcm\").pixel_array\n",
    "img = np.ones((9, 7)) * 150\n",
    "img[0:2] = 50\n",
    "height, width = img.shape\n",
    "half_height = height//2\n",
    "half_width = width//2\n",
    "\n"
   ]
  },
  {
   "cell_type": "code",
   "execution_count": null,
   "metadata": {},
   "outputs": [],
   "source": []
  },
  {
   "cell_type": "code",
   "execution_count": 3,
   "metadata": {},
   "outputs": [
    {
     "data": {
      "text/plain": [
       "<matplotlib.image.AxesImage at 0x241a1a9c690>"
      ]
     },
     "execution_count": 3,
     "metadata": {},
     "output_type": "execute_result"
    },
    {
     "data": {
      "image/png": "[encoded data removed]",
      "text/plain": [
       "<Figure size 640x480 with 1 Axes>"
      ]
     },
     "metadata": {},
     "output_type": "display_data"
    }
   ],
   "source": [
    "plt.imshow(img, cmap=\"hot\",aspect=1)"
   ]
  },
  {
   "cell_type": "code",
   "execution_count": 4,
   "metadata": {},
   "outputs": [
    {
     "data": {
      "text/plain": [
       "array([[ 0.70710678, -0.70710678],\n",
       "       [ 0.70710678,  0.70710678]])"
      ]
     },
     "execution_count": 4,
     "metadata": {},
     "output_type": "execute_result"
    }
   ],
   "source": [
    "def rotate_matrix(degree:float):\n",
    "    theta = degree * (np.pi/180)\n",
    "    cos_theta = np.cos(theta)\n",
    "    sin_theta = np.sin(theta)\n",
    "\n",
    "    matrix = np.array([ [cos_theta, -sin_theta],\n",
    "                       [sin_theta, cos_theta] ])\n",
    "    \n",
    "    return matrix\n",
    "\n",
    "rotate_matrix(45)"
   ]
  },
  {
   "cell_type": "markdown",
   "metadata": {},
   "source": [
    "# Get rotated image size\n",
    "- To determine the size of an image, we need at least 3 point. <br>\n",
    " => Get the coordinate of 3 corner point (with the origin at the center of image)\n",
    "<i>(Ex: Upper left, Upper right, Lower Right)</i>\n",
    "\n",
    "- The idea here is to rotate 3 corner point with the rotation matrix and we will have the new size of rotated image<br>\n",
    "<b><i>Multiply matrix: Rotation_matrix @ corners</i></b>"
   ]
  },
  {
   "cell_type": "code",
   "execution_count": 5,
   "metadata": {},
   "outputs": [
    {
     "data": {
      "text/plain": [
       "array([[-3,  3,  3],\n",
       "       [ 4,  4, -4]])"
      ]
     },
     "execution_count": 5,
     "metadata": {},
     "output_type": "execute_result"
    }
   ],
   "source": [
    "upper_left = [-half_width, half_height] # (x, y)\n",
    "upper_right = [half_width, half_height]\n",
    "lower_right = [half_width, -half_height]\n",
    "\n",
    "# convert the coordinates above to a matrix that is multiplicable by rotation_matrix (2x2)\n",
    "\n",
    "# corners = np.array([upper_left, upper_right, lower_right]) => Not working because this is (3x2) matrix\n",
    "\n",
    "corners = np.array([upper_left, upper_right, lower_right]).transpose() \n",
    "corners"
   ]
  },
  {
   "cell_type": "markdown",
   "metadata": {},
   "source": [
    "- Rotate the corner points"
   ]
  },
  {
   "cell_type": "code",
   "execution_count": 6,
   "metadata": {},
   "outputs": [
    {
     "data": {
      "text/plain": [
       "array([[-4.94974747, -0.70710678,  4.94974747],\n",
       "       [ 0.70710678,  4.94974747, -0.70710678]])"
      ]
     },
     "execution_count": 6,
     "metadata": {},
     "output_type": "execute_result"
    }
   ],
   "source": [
    "# test rotate\n",
    "degree = 45\n",
    "new_corners = rotate_matrix(degree) @ corners\n",
    "new_corners"
   ]
  },
  {
   "cell_type": "markdown",
   "metadata": {},
   "source": [
    "- To get the greatest deviation from the center of an image (The farthest point from the center) with each axis, we need to find the maximum value in both x and y axis <br>\n",
    "<b>=> Rotated Image dimension: (max(x) * 2, max(y) * 2)</b>"
   ]
  },
  {
   "cell_type": "code",
   "execution_count": 7,
   "metadata": {},
   "outputs": [],
   "source": [
    "'''\n",
    "new_corners = [ [x1,x2,...,xn]\n",
    "                [y1,y2,...,yn] ]\n",
    "'''\n",
    "half_rotated_width = max(abs(new_corners[1]))\n",
    "half_rotated_height = max(abs(new_corners[0]))"
   ]
  },
  {
   "cell_type": "markdown",
   "metadata": {},
   "source": [
    "- because we are working with matrix (rows and columns) we need to round them to int"
   ]
  },
  {
   "cell_type": "code",
   "execution_count": 8,
   "metadata": {},
   "outputs": [
    {
     "data": {
      "text/plain": [
       "4"
      ]
     },
     "execution_count": 8,
     "metadata": {},
     "output_type": "execute_result"
    }
   ],
   "source": [
    "half_rotated_width = int(half_rotated_width)\n",
    "half_rotated_height = int(half_rotated_height)\n",
    "\n",
    "rotated_width = half_rotated_width * 2\n",
    "rotated_height = half_rotated_height * 2\n",
    "half_rotated_height"
   ]
  },
  {
   "cell_type": "markdown",
   "metadata": {},
   "source": [
    "# Rotate Image"
   ]
  },
  {
   "cell_type": "markdown",
   "metadata": {},
   "source": [
    "- Define the rotated image matrix and fill it with 0"
   ]
  },
  {
   "cell_type": "code",
   "execution_count": 9,
   "metadata": {},
   "outputs": [
    {
     "data": {
      "text/plain": [
       "(8, 8)"
      ]
     },
     "execution_count": 9,
     "metadata": {},
     "output_type": "execute_result"
    }
   ],
   "source": [
    "rotated_img = np.zeros((rotated_height, rotated_width))\n",
    "rotated_img.shape"
   ]
  },
  {
   "cell_type": "markdown",
   "metadata": {},
   "source": [
    "- To rotate the image, we need to <b><i> reverse thinking</i></b>: <br>\n",
    "-- Instead of finding the location for each pixel of original image after rotating x degree, we take each pixel of new image and rotate it back (-x) degree and get the color value of that pixel"
   ]
  },
  {
   "cell_type": "markdown",
   "metadata": {},
   "source": [
    "- np.indicies(): https://stackoverflow.com/questions/32271331/can-anybody-explain-me-the-numpy-indices <br>\n",
    " returns arrays which can be used as indices. The elements in i indicate the row index\n",
    "\n",
    "\n",
    " - Example:\n",
    " -- Create a 2x2 matrix:<br> <code>ids = np.indicies((2,2))</code> <br>\n",
    " -- Unpack the i, j indicies:<br> <code> i, j = ids </code> <br>\n",
    " -- These are the indicies i, j: <br>\n",
    "  <code> print(i) </code> <br>\n",
    "  [[0 0] <br>\n",
    "   [1 1]] <br>\n",
    "  <code> print(j) </code> <br>  \n",
    "  [[0 1] <br>\n",
    " [0 1]] <br>\n",
    "\n",
    "- The easy way to think of it is to make pairs as (i0,j0), (i1,j1), (i2,j2), (i3,j3) i.e. match each element of i with the corresponding element of j. So we get: <br>\n",
    "    <table style=\"width:20%\">\n",
    "        <tr>\n",
    "            <th></th>\n",
    "            <th>0</th>\n",
    "            <th>1</th>\n",
    "        </tr>\n",
    "        <tr>\n",
    "            <th>0</th>\n",
    "            <th>(0, 0)</th>\n",
    "            <th>(0, 1)</th>\n",
    "        </tr>\n",
    "        <tr>\n",
    "            <th>1</th>\n",
    "            <th>(1, 0)</th>\n",
    "            <th>(1, 1)</th>\n",
    "        </tr>\n",
    "    </table>\n"
   ]
  },
  {
   "cell_type": "markdown",
   "metadata": {},
   "source": [
    "- Create the indicies arrays using rotated_img's size to store all the indexes of rotated_img matrix"
   ]
  },
  {
   "cell_type": "code",
   "execution_count": 10,
   "metadata": {},
   "outputs": [
    {
     "data": {
      "text/plain": [
       "array([[[0, 0, 0, 0, 0, 0, 0, 0],\n",
       "        [1, 1, 1, 1, 1, 1, 1, 1],\n",
       "        [2, 2, 2, 2, 2, 2, 2, 2],\n",
       "        [3, 3, 3, 3, 3, 3, 3, 3],\n",
       "        [4, 4, 4, 4, 4, 4, 4, 4],\n",
       "        [5, 5, 5, 5, 5, 5, 5, 5],\n",
       "        [6, 6, 6, 6, 6, 6, 6, 6],\n",
       "        [7, 7, 7, 7, 7, 7, 7, 7]],\n",
       "\n",
       "       [[0, 1, 2, 3, 4, 5, 6, 7],\n",
       "        [0, 1, 2, 3, 4, 5, 6, 7],\n",
       "        [0, 1, 2, 3, 4, 5, 6, 7],\n",
       "        [0, 1, 2, 3, 4, 5, 6, 7],\n",
       "        [0, 1, 2, 3, 4, 5, 6, 7],\n",
       "        [0, 1, 2, 3, 4, 5, 6, 7],\n",
       "        [0, 1, 2, 3, 4, 5, 6, 7],\n",
       "        [0, 1, 2, 3, 4, 5, 6, 7]]])"
      ]
     },
     "execution_count": 10,
     "metadata": {},
     "output_type": "execute_result"
    }
   ],
   "source": [
    "indexes = np.indices((rotated_height, rotated_width))\n",
    "indexes\n"
   ]
  },
  {
   "cell_type": "markdown",
   "metadata": {},
   "source": [
    "#### We can apply the \"reverse thinking\" above by rotate each pixel <b>index</b> in rotated_img back to the original img ( rotate (-x) degree )"
   ]
  },
  {
   "cell_type": "markdown",
   "metadata": {},
   "source": [
    "- In order to do that, we need to get all the x, y index of current rotated_img and apply our rotation matrix to rotate all the index "
   ]
  },
  {
   "cell_type": "code",
   "execution_count": 11,
   "metadata": {},
   "outputs": [
    {
     "data": {
      "text/plain": [
       "array([[0, 1, 2, 3, 4, 5, 6, 7],\n",
       "       [0, 1, 2, 3, 4, 5, 6, 7],\n",
       "       [0, 1, 2, 3, 4, 5, 6, 7],\n",
       "       [0, 1, 2, 3, 4, 5, 6, 7],\n",
       "       [0, 1, 2, 3, 4, 5, 6, 7],\n",
       "       [0, 1, 2, 3, 4, 5, 6, 7],\n",
       "       [0, 1, 2, 3, 4, 5, 6, 7],\n",
       "       [0, 1, 2, 3, 4, 5, 6, 7]])"
      ]
     },
     "execution_count": 11,
     "metadata": {},
     "output_type": "execute_result"
    }
   ],
   "source": [
    "y_rot_indexes = indexes[0]\n",
    "x_rot_indexes = indexes[1]\n",
    "\n",
    "x_rot_indexes\n",
    "\n"
   ]
  },
  {
   "cell_type": "markdown",
   "metadata": {},
   "source": [
    "- We need to combine x_rot and y_rot to a matrix so we can apply the rotation matrix to rotate these indexes, but there are 2 PROBLEMS:<br>\n",
    "    1. The size of rotate matrix is (2 x 2), if we combine x_rot and y_rot right now, we not gonna have a (2 x n) matrix form, so we cant do a matrix multiplication\n",
    "    2. The rotate matrix we defined above is using the origin at the middle of the img (matrix) , but with the index in coding, the origin of the rotated_img matrix is at the upper left of the matrix, so we cant just apply the rotate yet"
   ]
  },
  {
   "cell_type": "code",
   "execution_count": 12,
   "metadata": {},
   "outputs": [
    {
     "data": {
      "text/plain": [
       "(16, 8)"
      ]
     },
     "execution_count": 12,
     "metadata": {},
     "output_type": "execute_result"
    }
   ],
   "source": [
    "# Cant combine right now because look at the shape!\n",
    "np.row_stack((x_rot_indexes, y_rot_indexes)).shape"
   ]
  },
  {
   "cell_type": "markdown",
   "metadata": {},
   "source": [
    "1. To reduce the dimension of the matrix, we use flatten() to flat the matrix n-dim to 1-dim"
   ]
  },
  {
   "cell_type": "code",
   "execution_count": 13,
   "metadata": {},
   "outputs": [
    {
     "name": "stdout",
     "output_type": "stream",
     "text": [
      "(64,)\n",
      "(64,)\n"
     ]
    },
    {
     "data": {
      "text/plain": [
       "array([[0, 1, 2, 3, 4, 5, 6, 7, 0, 1, 2, 3, 4, 5, 6, 7, 0, 1, 2, 3, 4, 5,\n",
       "        6, 7, 0, 1, 2, 3, 4, 5, 6, 7, 0, 1, 2, 3, 4, 5, 6, 7, 0, 1, 2, 3,\n",
       "        4, 5, 6, 7, 0, 1, 2, 3, 4, 5, 6, 7, 0, 1, 2, 3, 4, 5, 6, 7],\n",
       "       [0, 0, 0, 0, 0, 0, 0, 0, 1, 1, 1, 1, 1, 1, 1, 1, 2, 2, 2, 2, 2, 2,\n",
       "        2, 2, 3, 3, 3, 3, 3, 3, 3, 3, 4, 4, 4, 4, 4, 4, 4, 4, 5, 5, 5, 5,\n",
       "        5, 5, 5, 5, 6, 6, 6, 6, 6, 6, 6, 6, 7, 7, 7, 7, 7, 7, 7, 7]])"
      ]
     },
     "execution_count": 13,
     "metadata": {},
     "output_type": "execute_result"
    }
   ],
   "source": [
    "y_rot_indexes = y_rot_indexes.flatten()\n",
    "x_rot_indexes = x_rot_indexes.flatten()\n",
    "print(x_rot_indexes.shape)\n",
    "print(y_rot_indexes.shape)\n",
    "\n",
    "np.row_stack((x_rot_indexes, y_rot_indexes))"
   ]
  },
  {
   "cell_type": "markdown",
   "metadata": {},
   "source": [
    "2. We subtract the indexes by half the width and length of the rotated_img to get the origin point index to the middle of the matrix <br>\n",
    "=> Now we can combine these 2 indexes"
   ]
  },
  {
   "cell_type": "code",
   "execution_count": 28,
   "metadata": {},
   "outputs": [
    {
     "name": "stdout",
     "output_type": "stream",
     "text": [
      "[[-4 -3 -2 -1  0  1  2  3]\n",
      " [-4 -3 -2 -1  0  1  2  3]\n",
      " [-4 -3 -2 -1  0  1  2  3]\n",
      " [-4 -3 -2 -1  0  1  2  3]\n",
      " [-4 -3 -2 -1  0  1  2  3]\n",
      " [-4 -3 -2 -1  0  1  2  3]\n",
      " [-4 -3 -2 -1  0  1  2  3]\n",
      " [-4 -3 -2 -1  0  1  2  3]]\n",
      "[[-4 -4 -4 -4 -4 -4 -4 -4]\n",
      " [-3 -3 -3 -3 -3 -3 -3 -3]\n",
      " [-2 -2 -2 -2 -2 -2 -2 -2]\n",
      " [-1 -1 -1 -1 -1 -1 -1 -1]\n",
      " [ 0  0  0  0  0  0  0  0]\n",
      " [ 1  1  1  1  1  1  1  1]\n",
      " [ 2  2  2  2  2  2  2  2]\n",
      " [ 3  3  3  3  3  3  3  3]]\n"
     ]
    },
    {
     "data": {
      "text/plain": [
       "(2, 64)"
      ]
     },
     "execution_count": 28,
     "metadata": {},
     "output_type": "execute_result"
    }
   ],
   "source": [
    "y_rot_center_indexes = y_rot_indexes - half_rotated_height\n",
    "x_rot_center_indexes = x_rot_indexes - half_rotated_width\n",
    "\n",
    "test_x_rot = x_rot_center_indexes.reshape((rotated_height, rotated_width))\n",
    "test_y_rot = y_rot_center_indexes.reshape((rotated_height, rotated_width))\n",
    "print(test_x_rot)\n",
    "print(test_y_rot)\n",
    "\n",
    "\n",
    "\n",
    "rot_center_indexes = np.row_stack((x_rot_center_indexes, y_rot_center_indexes))\n",
    "rot_center_indexes.shape"
   ]
  },
  {
   "cell_type": "markdown",
   "metadata": {},
   "source": [
    "- Now we have the indexes of the rotated_img that sastisfy our requirements: \n",
    "    + Multiplicable by our rotate_matrix\n",
    "    + Origin at the middle\n",
    "- After rotate, we probably gonna get some float values, but we dont care about that float, because we are working with index (int), so we convert all the floats to int using .astype(np.int32)"
   ]
  },
  {
   "cell_type": "code",
   "execution_count": 15,
   "metadata": {},
   "outputs": [
    {
     "data": {
      "text/plain": [
       "array([[-5, -4, -4, -3, -2, -2, -1,  0, -4, -4, -3, -2, -2, -1,  0,  0,\n",
       "        -4, -3, -2, -2, -1,  0,  0,  0, -3, -2, -2, -1,  0,  0,  0,  1,\n",
       "        -2, -2, -1,  0,  0,  0,  1,  2, -2, -1,  0,  0,  0,  1,  2,  2,\n",
       "        -1,  0,  0,  0,  1,  2,  2,  3,  0,  0,  0,  1,  2,  2,  3,  4],\n",
       "       [ 0,  0, -1, -2, -2, -3, -4, -4,  0,  0,  0, -1, -2, -2, -3, -4,\n",
       "         1,  0,  0,  0, -1, -2, -2, -3,  2,  1,  0,  0,  0, -1, -2, -2,\n",
       "         2,  2,  1,  0,  0,  0, -1, -2,  3,  2,  2,  1,  0,  0,  0, -1,\n",
       "         4,  3,  2,  2,  1,  0,  0,  0,  4,  4,  3,  2,  2,  1,  0,  0]])"
      ]
     },
     "execution_count": 15,
     "metadata": {},
     "output_type": "execute_result"
    }
   ],
   "source": [
    "rev_rot_center_indexes = (rotate_matrix(-degree) @ rot_center_indexes).astype(np.int32) \n",
    "rev_rot_center_indexes\n"
   ]
  },
  {
   "cell_type": "markdown",
   "metadata": {},
   "source": [
    "- We have the index of x and y after rotate back x degree, the full name of the variable is revert_x and revert_y, but its too long so i called them x, y instead"
   ]
  },
  {
   "cell_type": "code",
   "execution_count": 16,
   "metadata": {},
   "outputs": [],
   "source": [
    "x_center_indexes = rev_rot_center_indexes[0]\n",
    "y_center_indexes = rev_rot_center_indexes[1]\n"
   ]
  },
  {
   "cell_type": "code",
   "execution_count": 30,
   "metadata": {},
   "outputs": [
    {
     "data": {
      "text/plain": [
       "array([[-5, -4, -4, -3, -2, -2, -1,  0],\n",
       "       [-4, -4, -3, -2, -2, -1,  0,  0],\n",
       "       [-4, -3, -2, -2, -1,  0,  0,  0],\n",
       "       [-3, -2, -2, -1,  0,  0,  0,  1],\n",
       "       [-2, -2, -1,  0,  0,  0,  1,  2],\n",
       "       [-2, -1,  0,  0,  0,  1,  2,  2],\n",
       "       [-1,  0,  0,  0,  1,  2,  2,  3],\n",
       "       [ 0,  0,  0,  1,  2,  2,  3,  4]])"
      ]
     },
     "execution_count": 30,
     "metadata": {},
     "output_type": "execute_result"
    }
   ],
   "source": [
    "test_xc = x_center_indexes.reshape((rotated_height, rotated_width))\n",
    "test_xc"
   ]
  },
  {
   "cell_type": "markdown",
   "metadata": {},
   "source": [
    "- Now we must convert the origin index back to the default (upper left)"
   ]
  },
  {
   "cell_type": "code",
   "execution_count": 32,
   "metadata": {},
   "outputs": [
    {
     "data": {
      "text/plain": [
       "array([4, 4, 3, 2, 2, 1, 0, 0, 4, 4, 4, 3, 2, 2, 1, 0, 5, 4, 4, 4, 3, 2,\n",
       "       2, 1, 6, 5, 4, 4, 4, 3, 2, 2, 6, 6, 5, 4, 4, 4, 3, 2, 7, 6, 6, 5,\n",
       "       4, 4, 4, 3, 8, 7, 6, 6, 5, 4, 4, 4, 8, 8, 7, 6, 6, 5, 4, 4])"
      ]
     },
     "execution_count": 32,
     "metadata": {},
     "output_type": "execute_result"
    }
   ],
   "source": [
    "x_indexes = x_center_indexes + half_width\n",
    "y_indexes = y_center_indexes + half_height\n",
    "\n",
    "y_indexes"
   ]
  },
  {
   "cell_type": "markdown",
   "metadata": {},
   "source": [
    "- Its very tempting to do the map right now: <br>\n",
    "<code>rotated_img[y_rot_indexes, x_rot_indexes] = img[y_indexes, x_indexes]</code> <br>\n",
    "But remember the sizes of the original image and the rotated_img are not the same! So if you do the map right now, you gonna get out of bounds!\n",
    "\n",
    "- So we have to check if the index of both rotated_img and original img exist:\n",
    "    + x in range(0, half_width)\n",
    "    + y in range(0, half_height)"
   ]
  },
  {
   "cell_type": "markdown",
   "metadata": {},
   "source": [
    "- The boolean array below create an array filled with True/False based on the condition given. This array has the same shape as the rotated image and is used as a mask to selectively copy values from the original image to the rotated image."
   ]
  },
  {
   "cell_type": "code",
   "execution_count": 19,
   "metadata": {},
   "outputs": [
    {
     "data": {
      "text/plain": [
       "array([False, False, False, False,  True,  True, False, False, False,\n",
       "       False, False,  True,  True,  True,  True, False, False, False,\n",
       "        True,  True,  True,  True,  True,  True, False,  True,  True,\n",
       "        True,  True,  True,  True,  True,  True,  True,  True,  True,\n",
       "        True,  True,  True,  True,  True,  True,  True,  True,  True,\n",
       "        True,  True,  True, False,  True,  True,  True,  True,  True,\n",
       "        True, False, False, False,  True,  True,  True,  True, False,\n",
       "       False])"
      ]
     },
     "execution_count": 19,
     "metadata": {},
     "output_type": "execute_result"
    }
   ],
   "source": [
    "boolean_array = np.logical_and(np.abs(x_center_indexes) < half_width, np.abs(y_center_indexes) < half_height)\n",
    "boolean_array"
   ]
  },
  {
   "cell_type": "code",
   "execution_count": 20,
   "metadata": {},
   "outputs": [
    {
     "name": "stdout",
     "output_type": "stream",
     "text": [
      "_ _ _ _ @ @ _ _ \n",
      "_ _ _ @ @ @ @ _ \n",
      "_ _ @ @ @ @ @ @ \n",
      "_ @ @ @ @ @ @ @ \n",
      "@ @ @ @ @ @ @ @ \n",
      "@ @ @ @ @ @ @ @ \n",
      "_ @ @ @ @ @ @ _ \n",
      "_ _ @ @ @ @ _ _ \n"
     ]
    }
   ],
   "source": [
    "test = boolean_array.reshape((rotated_height,rotated_width))\n",
    "\n",
    "for i in range(test.shape[1]):\n",
    "    for j in range(test.shape[0]):\n",
    "        draw = \"\"\n",
    "        if (test[i, j] == True):\n",
    "            draw = \"@\"\n",
    "        else:\n",
    "            draw = \"_\"\n",
    "        print(draw, end=\" \")\n",
    "    print()"
   ]
  },
  {
   "cell_type": "markdown",
   "metadata": {},
   "source": [
    "- The line below is an example of how this boolean indexing works. It will return the values of x_indexes that make the condition in the boolean array = True\n",
    "- np.abs(x_center_ids) < h_width: This condition checks whether the absolute (non-negative) x-coordinate of each pixel in the rotated image is less than half of the original image's width (h_width). In other words, it verifies whether the x-coordinate of a pixel in the rotated image falls within the horizontal boundaries of the original image.\n",
    "- np.abs(y_center_ids) < h_height: This condition checks whether the absolute (non-negative) y-coordinate of each pixel in the rotated image is less than half of the original image's height (h_height). It verifies whether the y-coordinate of a pixel in the rotated image falls within the vertical boundaries of the original image."
   ]
  },
  {
   "cell_type": "code",
   "execution_count": 21,
   "metadata": {},
   "outputs": [
    {
     "name": "stdout",
     "output_type": "stream",
     "text": [
      "[[-2 -1 -1  0  1  1  2  3]\n",
      " [-1 -1  0  1  1  2  3  3]\n",
      " [-1  0  1  1  2  3  3  3]\n",
      " [ 0  1  1  2  3  3  3  4]\n",
      " [ 1  1  2  3  3  3  4  5]\n",
      " [ 1  2  3  3  3  4  5  5]\n",
      " [ 2  3  3  3  4  5  5  6]\n",
      " [ 3  3  3  4  5  5  6  7]]\n",
      "[[4 4 3 2 2 1 0 0]\n",
      " [4 4 4 3 2 2 1 0]\n",
      " [5 4 4 4 3 2 2 1]\n",
      " [6 5 4 4 4 3 2 2]\n",
      " [6 6 5 4 4 4 3 2]\n",
      " [7 6 6 5 4 4 4 3]\n",
      " [8 7 6 6 5 4 4 4]\n",
      " [8 8 7 6 6 5 4 4]]\n"
     ]
    }
   ],
   "source": [
    "testx = x_indexes.reshape((rotated_height, rotated_width))\n",
    "testy = y_indexes.reshape((rotated_height, rotated_width))\n",
    "\n",
    "print(testx)\n",
    "print(testy)"
   ]
  },
  {
   "cell_type": "code",
   "execution_count": 22,
   "metadata": {},
   "outputs": [],
   "source": [
    "y_rot_exist = y_rot_indexes[boolean_array == True]\n",
    "x_rot_exist = x_rot_indexes[boolean_array == True]\n",
    "\n",
    "y_exist = y_indexes[boolean_array == True]\n",
    "x_exist = x_indexes[boolean_array == True]"
   ]
  },
  {
   "cell_type": "code",
   "execution_count": 23,
   "metadata": {},
   "outputs": [
    {
     "data": {
      "text/plain": [
       "(45,)"
      ]
     },
     "execution_count": 23,
     "metadata": {},
     "output_type": "execute_result"
    }
   ],
   "source": [
    "y_exist.shape"
   ]
  },
  {
   "cell_type": "code",
   "execution_count": 24,
   "metadata": {},
   "outputs": [
    {
     "data": {
      "text/plain": [
       "(45,)"
      ]
     },
     "execution_count": 24,
     "metadata": {},
     "output_type": "execute_result"
    }
   ],
   "source": [
    "y_rot_exist.shape"
   ]
  },
  {
   "cell_type": "code",
   "execution_count": 25,
   "metadata": {},
   "outputs": [],
   "source": [
    "# rotated_img[y_rot_indexes[boolean_array], x_rot_indexes[boolean_array]] = img[y_indexes[boolean_array], x_indexes[boolean_array]]\n",
    "rotated_img[y_rot_exist, x_rot_exist] = img[y_exist, x_exist]"
   ]
  },
  {
   "cell_type": "code",
   "execution_count": 26,
   "metadata": {},
   "outputs": [
    {
     "data": {
      "text/plain": [
       "(8, 8)"
      ]
     },
     "execution_count": 26,
     "metadata": {},
     "output_type": "execute_result"
    },
    {
     "data": {
      "image/png": "[encoded data removed]",
      "text/plain": [
       "<Figure size 640x480 with 1 Axes>"
      ]
     },
     "metadata": {},
     "output_type": "display_data"
    }
   ],
   "source": [
    "plt.imshow(rotated_img, cmap=\"hot\")\n",
    "rotated_img.shape"
   ]
  }
 ],
 "metadata": {
  "kernelspec": {
   "display_name": "Python 3",
   "language": "python",
   "name": "python3"
  },
  "language_info": {
   "codemirror_mode": {
    "name": "ipython",
    "version": 3
   },
   "file_extension": ".py",
   "mimetype": "text/x-python",
   "name": "python",
   "nbconvert_exporter": "python",
   "pygments_lexer": "ipython3",
   "version": "3.11.3"
  }
 },
 "nbformat": 4,
 "nbformat_minor": 2
}
